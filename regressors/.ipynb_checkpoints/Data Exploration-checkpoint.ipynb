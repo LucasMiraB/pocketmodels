{
 "cells": [
  {
   "cell_type": "markdown",
   "id": "d57961e9",
   "metadata": {},
   "source": [
    "# Import Libs"
   ]
  },
  {
   "cell_type": "code",
   "execution_count": 18,
   "id": "76df3998",
   "metadata": {},
   "outputs": [],
   "source": [
    "import pandas as pd\n",
    "import numpy as np\n",
    "import seaborn as sns\n",
    "import joblib, os\n",
    "\n",
    "from sklearn.datasets import load_iris\n",
    "from sklearn.linear_model import LogisticRegression\n",
    "from sklearn.model_selection import train_test_split\n",
    "from sklearn.model_selection import GridSearchCV\n",
    "from sklearn import preprocessing\n",
    "from sklearn.pipeline import Pipeline\n",
    "\n",
    "import warnings\n",
    "#warnings.filterwarnings('ignore')\n",
    "\n",
    "from sklearn.metrics import confusion_matrix"
   ]
  },
  {
   "cell_type": "markdown",
   "id": "8b5941e6",
   "metadata": {},
   "source": [
    "# Import Data"
   ]
  },
  {
   "cell_type": "code",
   "execution_count": 42,
   "id": "70cd483a",
   "metadata": {},
   "outputs": [],
   "source": [
    "data, labels = load_iris(return_X_y=True)\n",
    "label_names = load_iris()['target_names']\n",
    "\n",
    "#data = array\n",
    "#labels = number targets"
   ]
  },
  {
   "cell_type": "markdown",
   "id": "3637d165",
   "metadata": {},
   "source": [
    "# PreProcess Data"
   ]
  },
  {
   "cell_type": "code",
   "execution_count": 6,
   "id": "84dfbddf",
   "metadata": {},
   "outputs": [],
   "source": [
    "'''\n",
    "Adicionar qualquer préprocessamento que seja necessário\n",
    "'''\n",
    "\n",
    "# Break by train-test split\n",
    "X_train, X_test, y_train, y_test = train_test_split(data, labels,\n",
    "                                                    test_size=0.25,\n",
    "                                                    random_state=106)"
   ]
  },
  {
   "cell_type": "markdown",
   "id": "35812926",
   "metadata": {},
   "source": [
    "# Run Grid Search"
   ]
  },
  {
   "cell_type": "code",
   "execution_count": 10,
   "id": "cf2c33db",
   "metadata": {},
   "outputs": [
    {
     "name": "stderr",
     "output_type": "stream",
     "text": [
      "C:\\Users\\lucas\\anaconda3\\envs\\regressor_env\\lib\\site-packages\\sklearn\\svm\\_base.py:1244: ConvergenceWarning: Liblinear failed to converge, increase the number of iterations.\n",
      "  warnings.warn(\n",
      "C:\\Users\\lucas\\anaconda3\\envs\\regressor_env\\lib\\site-packages\\sklearn\\svm\\_base.py:1244: ConvergenceWarning: Liblinear failed to converge, increase the number of iterations.\n",
      "  warnings.warn(\n",
      "C:\\Users\\lucas\\anaconda3\\envs\\regressor_env\\lib\\site-packages\\sklearn\\svm\\_base.py:1244: ConvergenceWarning: Liblinear failed to converge, increase the number of iterations.\n",
      "  warnings.warn(\n",
      "C:\\Users\\lucas\\anaconda3\\envs\\regressor_env\\lib\\site-packages\\sklearn\\svm\\_base.py:1244: ConvergenceWarning: Liblinear failed to converge, increase the number of iterations.\n",
      "  warnings.warn(\n",
      "C:\\Users\\lucas\\anaconda3\\envs\\regressor_env\\lib\\site-packages\\sklearn\\svm\\_base.py:1244: ConvergenceWarning: Liblinear failed to converge, increase the number of iterations.\n",
      "  warnings.warn(\n",
      "C:\\Users\\lucas\\anaconda3\\envs\\regressor_env\\lib\\site-packages\\sklearn\\svm\\_base.py:1244: ConvergenceWarning: Liblinear failed to converge, increase the number of iterations.\n",
      "  warnings.warn(\n",
      "C:\\Users\\lucas\\anaconda3\\envs\\regressor_env\\lib\\site-packages\\sklearn\\svm\\_base.py:1244: ConvergenceWarning: Liblinear failed to converge, increase the number of iterations.\n",
      "  warnings.warn(\n"
     ]
    },
    {
     "name": "stdout",
     "output_type": "stream",
     "text": [
      "Tuned Hyperparameters : {'logistic__C': 1000.0, 'logistic__max_iter': 100, 'logistic__penalty': 'l1', 'logistic__random_state': 0, 'logistic__solver': 'liblinear'}\n",
      "Accuracy : 0.9643939393939395\n"
     ]
    },
    {
     "name": "stderr",
     "output_type": "stream",
     "text": [
      "C:\\Users\\lucas\\anaconda3\\envs\\regressor_env\\lib\\site-packages\\sklearn\\model_selection\\_validation.py:378: FitFailedWarning: \n",
      "1680 fits failed out of a total of 5040.\n",
      "The score on these train-test partitions for these parameters will be set to nan.\n",
      "If these failures are not expected, you can try to debug them by setting error_score='raise'.\n",
      "\n",
      "Below are more details about the failures:\n",
      "--------------------------------------------------------------------------------\n",
      "840 fits failed with the following error:\n",
      "Traceback (most recent call last):\n",
      "  File \"C:\\Users\\lucas\\anaconda3\\envs\\regressor_env\\lib\\site-packages\\sklearn\\model_selection\\_validation.py\", line 686, in _fit_and_score\n",
      "    estimator.fit(X_train, y_train, **fit_params)\n",
      "  File \"C:\\Users\\lucas\\anaconda3\\envs\\regressor_env\\lib\\site-packages\\sklearn\\pipeline.py\", line 405, in fit\n",
      "    self._final_estimator.fit(Xt, y, **fit_params_last_step)\n",
      "  File \"C:\\Users\\lucas\\anaconda3\\envs\\regressor_env\\lib\\site-packages\\sklearn\\linear_model\\_logistic.py\", line 1162, in fit\n",
      "    solver = _check_solver(self.solver, self.penalty, self.dual)\n",
      "  File \"C:\\Users\\lucas\\anaconda3\\envs\\regressor_env\\lib\\site-packages\\sklearn\\linear_model\\_logistic.py\", line 54, in _check_solver\n",
      "    raise ValueError(\n",
      "ValueError: Solver newton-cg supports only 'l2' or 'none' penalties, got l1 penalty.\n",
      "\n",
      "--------------------------------------------------------------------------------\n",
      "840 fits failed with the following error:\n",
      "Traceback (most recent call last):\n",
      "  File \"C:\\Users\\lucas\\anaconda3\\envs\\regressor_env\\lib\\site-packages\\sklearn\\model_selection\\_validation.py\", line 686, in _fit_and_score\n",
      "    estimator.fit(X_train, y_train, **fit_params)\n",
      "  File \"C:\\Users\\lucas\\anaconda3\\envs\\regressor_env\\lib\\site-packages\\sklearn\\pipeline.py\", line 405, in fit\n",
      "    self._final_estimator.fit(Xt, y, **fit_params_last_step)\n",
      "  File \"C:\\Users\\lucas\\anaconda3\\envs\\regressor_env\\lib\\site-packages\\sklearn\\linear_model\\_logistic.py\", line 1162, in fit\n",
      "    solver = _check_solver(self.solver, self.penalty, self.dual)\n",
      "  File \"C:\\Users\\lucas\\anaconda3\\envs\\regressor_env\\lib\\site-packages\\sklearn\\linear_model\\_logistic.py\", line 54, in _check_solver\n",
      "    raise ValueError(\n",
      "ValueError: Solver lbfgs supports only 'l2' or 'none' penalties, got l1 penalty.\n",
      "\n",
      "  warnings.warn(some_fits_failed_message, FitFailedWarning)\n",
      "C:\\Users\\lucas\\anaconda3\\envs\\regressor_env\\lib\\site-packages\\sklearn\\model_selection\\_search.py:952: UserWarning: One or more of the test scores are non-finite: [       nan        nan 0.30454545        nan        nan 0.30454545\n",
      "        nan        nan 0.30454545        nan        nan 0.30454545\n",
      " 0.66969697 0.66969697 0.78560606 0.66969697 0.66969697 0.78560606\n",
      " 0.66969697 0.66969697 0.78560606 0.66969697 0.66969697 0.78560606\n",
      "        nan        nan 0.30454545        nan        nan 0.30454545\n",
      "        nan        nan 0.30454545        nan        nan 0.30454545\n",
      " 0.66969697 0.66969697 0.78560606 0.66969697 0.66969697 0.78560606\n",
      " 0.66969697 0.66969697 0.78560606 0.66969697 0.66969697 0.78560606\n",
      "        nan        nan 0.30454545        nan        nan 0.30454545\n",
      "        nan        nan 0.30454545        nan        nan 0.30454545\n",
      " 0.66969697 0.66969697 0.78560606 0.66969697 0.66969697 0.78560606\n",
      " 0.66969697 0.66969697 0.78560606 0.66969697 0.66969697 0.78560606\n",
      "        nan        nan 0.30454545        nan        nan 0.30454545\n",
      "        nan        nan 0.30454545        nan        nan 0.30454545\n",
      " 0.79545455 0.79545455 0.78636364 0.79545455 0.79545455 0.78636364\n",
      " 0.79545455 0.79545455 0.78636364 0.79545455 0.79545455 0.78636364\n",
      "        nan        nan 0.30454545        nan        nan 0.30454545\n",
      "        nan        nan 0.30454545        nan        nan 0.30454545\n",
      " 0.79545455 0.79545455 0.78636364 0.79545455 0.79545455 0.78636364\n",
      " 0.79545455 0.79545455 0.78636364 0.79545455 0.79545455 0.78636364\n",
      "        nan        nan 0.30454545        nan        nan 0.30454545\n",
      "        nan        nan 0.30454545        nan        nan 0.30454545\n",
      " 0.79545455 0.79545455 0.78636364 0.79545455 0.79545455 0.78636364\n",
      " 0.79545455 0.79545455 0.78636364 0.79545455 0.79545455 0.78636364\n",
      "        nan        nan 0.77878788        nan        nan 0.77878788\n",
      "        nan        nan 0.77878788        nan        nan 0.77878788\n",
      " 0.89469697 0.89469697 0.83257576 0.89469697 0.89469697 0.83257576\n",
      " 0.89469697 0.89469697 0.83257576 0.89469697 0.89469697 0.83257576\n",
      "        nan        nan 0.77878788        nan        nan 0.77878788\n",
      "        nan        nan 0.77878788        nan        nan 0.77878788\n",
      " 0.89469697 0.89469697 0.83257576 0.89469697 0.89469697 0.83257576\n",
      " 0.89469697 0.89469697 0.83257576 0.89469697 0.89469697 0.83257576\n",
      "        nan        nan 0.77878788        nan        nan 0.77878788\n",
      "        nan        nan 0.77878788        nan        nan 0.77878788\n",
      " 0.89469697 0.89469697 0.83257576 0.89469697 0.89469697 0.83257576\n",
      " 0.89469697 0.89469697 0.83257576 0.89469697 0.89469697 0.83257576\n",
      "        nan        nan 0.92045455        nan        nan 0.92045455\n",
      "        nan        nan 0.92045455        nan        nan 0.92045455\n",
      " 0.95606061 0.95606061 0.87651515 0.95606061 0.95606061 0.87651515\n",
      " 0.95606061 0.95606061 0.87651515 0.95606061 0.95606061 0.87651515\n",
      "        nan        nan 0.92045455        nan        nan 0.92045455\n",
      "        nan        nan 0.92045455        nan        nan 0.92045455\n",
      " 0.95606061 0.95606061 0.87651515 0.95606061 0.95606061 0.87651515\n",
      " 0.95606061 0.95606061 0.87651515 0.95606061 0.95606061 0.87651515\n",
      "        nan        nan 0.92045455        nan        nan 0.92045455\n",
      "        nan        nan 0.92045455        nan        nan 0.92045455\n",
      " 0.95606061 0.95606061 0.87651515 0.95606061 0.95606061 0.87651515\n",
      " 0.95606061 0.95606061 0.87651515 0.95606061 0.95606061 0.87651515\n",
      "        nan        nan 0.9469697         nan        nan 0.9469697\n",
      "        nan        nan 0.9469697         nan        nan 0.9469697\n",
      " 0.95606061 0.95606061 0.93787879 0.95606061 0.95606061 0.93787879\n",
      " 0.95606061 0.95606061 0.93787879 0.95606061 0.95606061 0.93787879\n",
      "        nan        nan 0.9469697         nan        nan 0.9469697\n",
      "        nan        nan 0.9469697         nan        nan 0.9469697\n",
      " 0.95606061 0.95606061 0.93787879 0.95606061 0.95606061 0.93787879\n",
      " 0.95606061 0.95606061 0.93787879 0.95606061 0.95606061 0.93787879\n",
      "        nan        nan 0.9469697         nan        nan 0.9469697\n",
      "        nan        nan 0.9469697         nan        nan 0.9469697\n",
      " 0.95606061 0.95606061 0.93787879 0.95606061 0.95606061 0.93787879\n",
      " 0.95606061 0.95606061 0.93787879 0.95606061 0.95606061 0.93787879\n",
      "        nan        nan 0.9469697         nan        nan 0.9469697\n",
      "        nan        nan 0.9469697         nan        nan 0.9469697\n",
      " 0.95530303 0.95530303 0.95606061 0.95530303 0.95530303 0.95606061\n",
      " 0.95530303 0.95530303 0.95606061 0.95530303 0.95530303 0.95606061\n",
      "        nan        nan 0.9469697         nan        nan 0.9469697\n",
      "        nan        nan 0.9469697         nan        nan 0.9469697\n",
      " 0.95530303 0.95530303 0.95606061 0.95530303 0.95530303 0.95606061\n",
      " 0.95530303 0.95530303 0.95606061 0.95530303 0.95530303 0.95606061\n",
      "        nan        nan 0.9469697         nan        nan 0.9469697\n",
      "        nan        nan 0.9469697         nan        nan 0.9469697\n",
      " 0.95530303 0.95530303 0.95606061 0.95530303 0.95530303 0.95606061\n",
      " 0.95530303 0.95530303 0.95606061 0.95530303 0.95530303 0.95606061\n",
      "        nan        nan 0.96439394        nan        nan 0.96439394\n",
      "        nan        nan 0.96439394        nan        nan 0.96439394\n",
      " 0.96439394 0.96439394 0.9469697  0.96439394 0.96439394 0.9469697\n",
      " 0.96439394 0.96439394 0.9469697  0.96439394 0.96439394 0.9469697\n",
      "        nan        nan 0.96439394        nan        nan 0.96439394\n",
      "        nan        nan 0.96439394        nan        nan 0.96439394\n",
      " 0.96439394 0.96439394 0.9469697  0.96439394 0.96439394 0.9469697\n",
      " 0.96439394 0.96439394 0.9469697  0.96439394 0.96439394 0.9469697\n",
      "        nan        nan 0.96439394        nan        nan 0.96439394\n",
      "        nan        nan 0.96439394        nan        nan 0.96439394\n",
      " 0.96439394 0.96439394 0.9469697  0.96439394 0.96439394 0.9469697\n",
      " 0.96439394 0.96439394 0.9469697  0.96439394 0.96439394 0.9469697 ]\n",
      "  warnings.warn(\n"
     ]
    }
   ],
   "source": [
    "parameters = {\n",
    "    'logistic__penalty' : ['l1','l2'], \n",
    "    'logistic__C'       : np.logspace(-3,3,7),\n",
    "    'logistic__solver'  : ['newton-cg', 'lbfgs', 'liblinear'],\n",
    "    'logistic__max_iter': [100,200,500],\n",
    "    'logistic__random_state':[0,42,106,32]\n",
    "}\n",
    "\n",
    "'''\n",
    "# VER SE OS DADOS PARECEM NUM FORMATO GAUSSIANO.\n",
    "\n",
    "# Scale data for mean = 0\n",
    "# and std of 1\n",
    "'''\n",
    "\n",
    "pipe = Pipeline([('scaler', preprocessing.StandardScaler()),\n",
    "                 ('logistic', LogisticRegression())])\n",
    "\n",
    "logreg_GS = GridSearchCV(pipe,\n",
    "                         param_grid = parameters,   # hyperparameters\n",
    "                         scoring='accuracy',        # metric for scoring\n",
    "                         cv=10)\n",
    "\n",
    "logreg_GS.fit(X_train, y_train)\n",
    "\n",
    "print(\"Tuned Hyperparameters :\", logreg_GS.best_params_)\n",
    "print(\"Accuracy :\",logreg_GS.best_score_)"
   ]
  },
  {
   "cell_type": "code",
   "execution_count": 43,
   "id": "e8db62a2",
   "metadata": {},
   "outputs": [
    {
     "data": {
      "text/plain": [
       "array(['setosa', 'versicolor', 'virginica'], dtype='<U10')"
      ]
     },
     "execution_count": 43,
     "metadata": {},
     "output_type": "execute_result"
    }
   ],
   "source": [
    "label_names"
   ]
  },
  {
   "cell_type": "code",
   "execution_count": 49,
   "id": "a053b384",
   "metadata": {
    "scrolled": false
   },
   "outputs": [
    {
     "data": {
      "text/plain": [
       "[Text(50.722222222222214, 0.5, 'True'),\n",
       " Text(0.5, 23.52222222222222, 'Prediction'),\n",
       " Text(0.5, 1.0, 'Confusion Matrix True X Pred')]"
      ]
     },
     "execution_count": 49,
     "metadata": {},
     "output_type": "execute_result"
    },
    {
     "data": {
      "image/png": "[encoded data removed]",
      "text/plain": [
       "<Figure size 640x480 with 1 Axes>"
      ]
     },
     "metadata": {},
     "output_type": "display_data"
    }
   ],
   "source": [
    "y_pred = logreg_GS.predict(X_test)\n",
    "\n",
    "cmat = confusion_matrix(y_test, y_pred, normalize='true')*100\n",
    "\n",
    "ax = sns.heatmap(cmat, cbar=False, annot=True, fmt=\".1f\",\n",
    "                 xticklabels = label_names, yticklabels = label_names)\n",
    "\n",
    "ax.set(ylabel = \"True\",\n",
    "       xlabel=\"Prediction\",\n",
    "       title = \"Confusion Matrix True X Pred\")"
   ]
  },
  {
   "cell_type": "markdown",
   "id": "6c8deaff",
   "metadata": {},
   "source": [
    "## Save Files"
   ]
  },
  {
   "cell_type": "code",
   "execution_count": 15,
   "id": "1979cab4",
   "metadata": {},
   "outputs": [
    {
     "data": {
      "text/plain": [
       "['models\\\\best_model_2023-07-05.joblib']"
      ]
     },
     "execution_count": 15,
     "metadata": {},
     "output_type": "execute_result"
    }
   ],
   "source": [
    "from datetime import datetime\n",
    "\n",
    "folder_path = \"models\"\n",
    "\n",
    "current_date= datetime.now().strftime(\"%Y-%m-%d\")\n",
    "model_name = f\"best_model_{current_date}.joblib\"\n",
    "\n",
    "estimator = logreg_GS.best_estimator_\n",
    "joblib.dump(estimator, os.path.join(folder_path,model_name))\n",
    "# Somewhere else\n",
    "#estimator = load(\"your-model.joblib\")"
   ]
  }
 ],
 "metadata": {
  "kernelspec": {
   "display_name": "Python 3 (ipykernel)",
   "language": "python",
   "name": "python3"
  },
  "language_info": {
   "codemirror_mode": {
    "name": "ipython",
    "version": 3
   },
   "file_extension": ".py",
   "mimetype": "text/x-python",
   "name": "python",
   "nbconvert_exporter": "python",
   "pygments_lexer": "ipython3",
   "version": "3.9.16"
  }
 },
 "nbformat": 4,
 "nbformat_minor": 5
}
